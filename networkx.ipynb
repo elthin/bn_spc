{
 "cells": [
  {
   "cell_type": "code",
   "execution_count": 1,
   "id": "df719d1b-941d-4937-906f-4e2405351f0e",
   "metadata": {},
   "outputs": [],
   "source": [
    "import random\n",
    "import networkx as nx\n",
    "import pandas as pd\n",
    "import matplotlib.pyplot as plt"
   ]
  },
  {
   "cell_type": "code",
   "execution_count": 2,
   "id": "d5772a06-be91-44ed-a9b8-0d57ca93656e",
   "metadata": {},
   "outputs": [
    {
     "data": {
      "text/plain": [
       "['X1', 'X2', 'X3', 'X4', 'X5', 'X6', 'X7', 'X8', 'X9', 'X10']"
      ]
     },
     "execution_count": 2,
     "metadata": {},
     "output_type": "execute_result"
    }
   ],
   "source": [
    "nodes = [\"X1\", \"X2\", \"X3\", \"X4\", \"X5\", \"X6\", \"X7\", \"X8\", \"X9\", \"X10\"]\n",
    "p = len(nodes)\n",
    "nodes"
   ]
  },
  {
   "cell_type": "markdown",
   "id": "fd8da5ae-c8d9-469e-9456-00acfd8fd3ac",
   "metadata": {},
   "source": [
    "### Random graph generation\n",
    "- <code>gn_graph</code>: The graph is built by adding nodes one at a time with a link to one previously added node."
   ]
  },
  {
   "cell_type": "code",
   "execution_count": 3,
   "id": "e5e78154-b695-49d2-a053-143989325c51",
   "metadata": {},
   "outputs": [
    {
     "data": {
      "image/png": "[encoded data removed]",
      "text/plain": [
       "<Figure size 500x300 with 1 Axes>"
      ]
     },
     "metadata": {},
     "output_type": "display_data"
    }
   ],
   "source": [
    "plt.figure(figsize = (5, 3))\n",
    "g_rd = nx.gn_graph(p, seed = 1)\n",
    "g = nx.DiGraph()\n",
    "g.add_nodes_from(nodes)\n",
    "\n",
    "for node_from, node_to in g_rd.edges():\n",
    "    g.add_edge(nodes[node_from], nodes[node_to])\n",
    "nx.draw(g, with_labels = True, node_color='lightblue')"
   ]
  },
  {
   "cell_type": "markdown",
   "id": "2406b734-f56f-4196-aeea-4d5f9fe6e579",
   "metadata": {},
   "source": [
    "### Common Functions"
   ]
  },
  {
   "cell_type": "markdown",
   "id": "20f95412-42e0-472c-89e0-59fa79c8eca6",
   "metadata": {},
   "source": [
    "- <code>ancestors</code> All nodes with a path to the specified node."
   ]
  },
  {
   "cell_type": "code",
   "execution_count": 4,
   "id": "4af62d57-42a5-4235-ad95-94923b718761",
   "metadata": {},
   "outputs": [
    {
     "data": {
      "text/plain": [
       "{'X4', 'X5', 'X7', 'X8', 'X9'}"
      ]
     },
     "execution_count": 4,
     "metadata": {},
     "output_type": "execute_result"
    }
   ],
   "source": [
    "nx.ancestors(g, \"X3\")"
   ]
  },
  {
   "cell_type": "markdown",
   "id": "2e24ded5-2871-4216-9659-04417b94e1d0",
   "metadata": {},
   "source": [
    "- <code>descendants</code> All nodes reachable from the specified node."
   ]
  },
  {
   "cell_type": "code",
   "execution_count": 5,
   "id": "ae218650-42cc-4194-8e17-43c619b9fbe5",
   "metadata": {},
   "outputs": [
    {
     "data": {
      "text/plain": [
       "{'X1', 'X3', 'X4'}"
      ]
     },
     "execution_count": 5,
     "metadata": {},
     "output_type": "execute_result"
    }
   ],
   "source": [
    "nx.descendants(g, \"X9\")"
   ]
  },
  {
   "cell_type": "markdown",
   "id": "48f45548-9d7d-408e-b434-46d93995756d",
   "metadata": {},
   "source": [
    "- <code>is_directed_acyclic_graph</code> Check if the graph is a directed acyclic graph. "
   ]
  },
  {
   "cell_type": "code",
   "execution_count": 6,
   "id": "86dd1461-cc6a-44e0-ae80-4fe19385166c",
   "metadata": {},
   "outputs": [
    {
     "data": {
      "text/plain": [
       "True"
      ]
     },
     "execution_count": 6,
     "metadata": {},
     "output_type": "execute_result"
    }
   ],
   "source": [
    "nx.is_directed_acyclic_graph(g)"
   ]
  },
  {
   "cell_type": "markdown",
   "id": "709c9a3c-c09d-422e-a918-ebdd541144bf",
   "metadata": {},
   "source": [
    "- <code>topological_sort</code> Returns a generator of nodes in topologically sorted order."
   ]
  },
  {
   "cell_type": "code",
   "execution_count": 7,
   "id": "ec1dc466-8b6b-48bc-baca-9db28ae3cdf5",
   "metadata": {},
   "outputs": [
    {
     "data": {
      "text/plain": [
       "['X5', 'X7', 'X8', 'X9', 'X10', 'X4', 'X6', 'X3', 'X2', 'X1']"
      ]
     },
     "execution_count": 7,
     "metadata": {},
     "output_type": "execute_result"
    }
   ],
   "source": [
    "tpsort = list(nx.topological_sort(g))\n",
    "tpsort"
   ]
  }
 ],
 "metadata": {
  "kernelspec": {
   "display_name": "Python 3 (ipykernel)",
   "language": "python",
   "name": "python3"
  },
  "language_info": {
   "codemirror_mode": {
    "name": "ipython",
    "version": 3
   },
   "file_extension": ".py",
   "mimetype": "text/x-python",
   "name": "python",
   "nbconvert_exporter": "python",
   "pygments_lexer": "ipython3",
   "version": "3.11.5"
  }
 },
 "nbformat": 4,
 "nbformat_minor": 5
}
