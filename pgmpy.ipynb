{
 "cells": [
  {
   "cell_type": "code",
   "execution_count": 1,
   "id": "2f5d2947-42c6-45c5-af59-73d17308f819",
   "metadata": {},
   "outputs": [
    {
     "name": "stderr",
     "output_type": "stream",
     "text": [
      "INFO:numexpr.utils:Note: NumExpr detected 10 cores but \"NUMEXPR_MAX_THREADS\" not set, so enforcing safe limit of 8.\n",
      "INFO:numexpr.utils:NumExpr defaulting to 8 threads.\n"
     ]
    }
   ],
   "source": [
    "from pgmpy.estimators import HillClimbSearch, K2Score, ExhaustiveSearch\n",
    "from pgmpy.utils import get_example_model\n",
    "from pgmpy.sampling import BayesianModelSampling\n",
    "import networkx as nx\n",
    "import matplotlib.pyplot as plt\n",
    "\n",
    "import warnings\n",
    "warnings.filterwarnings(\"ignore\")"
   ]
  },
  {
   "cell_type": "markdown",
   "id": "64b5b125-c92c-44fc-b74e-452e3cd74023",
   "metadata": {},
   "source": [
    "### Generate synthetic data from a benchmark network\n",
    "Reference: https://www.bnlearn.com/bnrepository/discrete-small.html#cancer"
   ]
  },
  {
   "cell_type": "code",
   "execution_count": 2,
   "id": "d2b7fca5-1859-44e2-bd80-fa95a68010b6",
   "metadata": {},
   "outputs": [
    {
     "data": {
      "application/vnd.jupyter.widget-view+json": {
       "model_id": "b3070017cf3f4235b97799d00b92b7e8",
       "version_major": 2,
       "version_minor": 0
      },
      "text/plain": [
       "  0%|          | 0/5 [00:00<?, ?it/s]"
      ]
     },
     "metadata": {},
     "output_type": "display_data"
    },
    {
     "data": {
      "text/html": [
       "<div>\n",
       "<style scoped>\n",
       "    .dataframe tbody tr th:only-of-type {\n",
       "        vertical-align: middle;\n",
       "    }\n",
       "\n",
       "    .dataframe tbody tr th {\n",
       "        vertical-align: top;\n",
       "    }\n",
       "\n",
       "    .dataframe thead th {\n",
       "        text-align: right;\n",
       "    }\n",
       "</style>\n",
       "<table border=\"1\" class=\"dataframe\">\n",
       "  <thead>\n",
       "    <tr style=\"text-align: right;\">\n",
       "      <th></th>\n",
       "      <th>Pollution</th>\n",
       "      <th>Smoker</th>\n",
       "      <th>Cancer</th>\n",
       "      <th>Xray</th>\n",
       "      <th>Dyspnoea</th>\n",
       "    </tr>\n",
       "  </thead>\n",
       "  <tbody>\n",
       "    <tr>\n",
       "      <th>0</th>\n",
       "      <td>low</td>\n",
       "      <td>True</td>\n",
       "      <td>True</td>\n",
       "      <td>positive</td>\n",
       "      <td>True</td>\n",
       "    </tr>\n",
       "    <tr>\n",
       "      <th>1</th>\n",
       "      <td>low</td>\n",
       "      <td>False</td>\n",
       "      <td>False</td>\n",
       "      <td>negative</td>\n",
       "      <td>False</td>\n",
       "    </tr>\n",
       "    <tr>\n",
       "      <th>2</th>\n",
       "      <td>low</td>\n",
       "      <td>False</td>\n",
       "      <td>False</td>\n",
       "      <td>positive</td>\n",
       "      <td>False</td>\n",
       "    </tr>\n",
       "    <tr>\n",
       "      <th>3</th>\n",
       "      <td>low</td>\n",
       "      <td>False</td>\n",
       "      <td>False</td>\n",
       "      <td>negative</td>\n",
       "      <td>True</td>\n",
       "    </tr>\n",
       "    <tr>\n",
       "      <th>4</th>\n",
       "      <td>low</td>\n",
       "      <td>True</td>\n",
       "      <td>False</td>\n",
       "      <td>negative</td>\n",
       "      <td>False</td>\n",
       "    </tr>\n",
       "  </tbody>\n",
       "</table>\n",
       "</div>"
      ],
      "text/plain": [
       "  Pollution Smoker Cancer      Xray Dyspnoea\n",
       "0       low   True   True  positive     True\n",
       "1       low  False  False  negative    False\n",
       "2       low  False  False  positive    False\n",
       "3       low  False  False  negative     True\n",
       "4       low   True  False  negative    False"
      ]
     },
     "execution_count": 2,
     "metadata": {},
     "output_type": "execute_result"
    }
   ],
   "source": [
    "model = get_example_model(\"cancer\")\n",
    "df = BayesianModelSampling(model).forward_sample(size = 1000)\n",
    "df.head()"
   ]
  },
  {
   "cell_type": "markdown",
   "id": "a8b41c3a-4c1c-4154-9c9a-09ab5a9c3988",
   "metadata": {},
   "source": [
    "### Learn Bayesian network from data"
   ]
  },
  {
   "cell_type": "code",
   "execution_count": 3,
   "id": "3940057c-845b-470d-84ee-f6a50b9cb355",
   "metadata": {},
   "outputs": [
    {
     "data": {
      "application/vnd.jupyter.widget-view+json": {
       "model_id": "7cc8da2e650b46ea95accffd86c449ff",
       "version_major": 2,
       "version_minor": 0
      },
      "text/plain": [
       "  0%|          | 0/50 [00:00<?, ?it/s]"
      ]
     },
     "metadata": {},
     "output_type": "display_data"
    }
   ],
   "source": [
    "scoring_method = K2Score(data = df)\n",
    "hc = HillClimbSearch(data = df)\n",
    "bn = hc.estimate(scoring_method = scoring_method, max_iter = 50)"
   ]
  },
  {
   "cell_type": "code",
   "execution_count": 4,
   "id": "b68b2190-935e-4f31-a5a6-6c34874a63e0",
   "metadata": {},
   "outputs": [
    {
     "name": "stdout",
     "output_type": "stream",
     "text": [
      "[('Pollution', 'Smoker'), ('Cancer', 'Xray'), ('Cancer', 'Smoker'), ('Cancer', 'Dyspnoea')]\n"
     ]
    }
   ],
   "source": [
    "edges = [e for e in bn.edges()]\n",
    "print(edges)"
   ]
  },
  {
   "cell_type": "markdown",
   "id": "c54d0e6f-39ea-4067-b9bb-5cedeed0b46e",
   "metadata": {},
   "source": [
    "### Visualization"
   ]
  },
  {
   "cell_type": "code",
   "execution_count": 5,
   "id": "46006fc1-33f8-4789-b825-8a5c74f32c8c",
   "metadata": {},
   "outputs": [
    {
     "data": {
      "image/png": "[encoded data removed]",
      "text/plain": [
       "<Figure size 600x400 with 1 Axes>"
      ]
     },
     "metadata": {},
     "output_type": "display_data"
    }
   ],
   "source": [
    "plt.figure(figsize = (6, 4))\n",
    "g = nx.DiGraph()\n",
    "g.add_nodes_from(df.columns.values)\n",
    "g.add_edges_from(edges)\n",
    "nx.draw(g, with_labels = True, node_color='lightblue', node_size = 600)"
   ]
  },
  {
   "cell_type": "code",
   "execution_count": null,
   "id": "b26ace70-9307-40fb-a96f-2143bcf7f719",
   "metadata": {},
   "outputs": [],
   "source": []
  }
 ],
 "metadata": {
  "kernelspec": {
   "display_name": "Python 3 (ipykernel)",
   "language": "python",
   "name": "python3"
  },
  "language_info": {
   "codemirror_mode": {
    "name": "ipython",
    "version": 3
   },
   "file_extension": ".py",
   "mimetype": "text/x-python",
   "name": "python",
   "nbconvert_exporter": "python",
   "pygments_lexer": "ipython3",
   "version": "3.11.5"
  }
 },
 "nbformat": 4,
 "nbformat_minor": 5
}
