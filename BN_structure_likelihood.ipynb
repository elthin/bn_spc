{
 "cells": [
  {
   "cell_type": "code",
   "execution_count": 55,
   "id": "901a3dc6-f373-405b-bcb3-ffd1e550134f",
   "metadata": {},
   "outputs": [],
   "source": [
    "from rpy2.robjects.packages import importr\n",
    "from rpy2.robjects import pandas2ri\n",
    "import rpy2.robjects as ro\n",
    "\n",
    "import pandas as pd\n",
    "import numpy as np\n",
    "\n",
    "import networkx as nx\n",
    "import matplotlib.pyplot as plt"
   ]
  },
  {
   "cell_type": "markdown",
   "id": "5600ef53-eb7c-46a9-9ab9-1529210ee889",
   "metadata": {},
   "source": [
    "## (1) Load dataset"
   ]
  },
  {
   "cell_type": "code",
   "execution_count": 8,
   "id": "bbba20c9-98bd-45de-a7b9-477ef0505556",
   "metadata": {},
   "outputs": [
    {
     "name": "stdout",
     "output_type": "stream",
     "text": [
      "(1000, 16)\n"
     ]
    },
    {
     "data": {
      "text/html": [
       "<div>\n",
       "<style scoped>\n",
       "    .dataframe tbody tr th:only-of-type {\n",
       "        vertical-align: middle;\n",
       "    }\n",
       "\n",
       "    .dataframe tbody tr th {\n",
       "        vertical-align: top;\n",
       "    }\n",
       "\n",
       "    .dataframe thead th {\n",
       "        text-align: right;\n",
       "    }\n",
       "</style>\n",
       "<table border=\"1\" class=\"dataframe\">\n",
       "  <thead>\n",
       "    <tr style=\"text-align: right;\">\n",
       "      <th></th>\n",
       "      <th>X1</th>\n",
       "      <th>X2</th>\n",
       "      <th>X3</th>\n",
       "      <th>X4</th>\n",
       "      <th>X5</th>\n",
       "      <th>X6</th>\n",
       "      <th>X7</th>\n",
       "      <th>X8</th>\n",
       "      <th>X9</th>\n",
       "      <th>X10</th>\n",
       "      <th>X11</th>\n",
       "      <th>X12</th>\n",
       "      <th>X13</th>\n",
       "      <th>X14</th>\n",
       "      <th>X15</th>\n",
       "      <th>X16</th>\n",
       "    </tr>\n",
       "  </thead>\n",
       "  <tbody>\n",
       "    <tr>\n",
       "      <th>0</th>\n",
       "      <td>2.442848</td>\n",
       "      <td>1.687888</td>\n",
       "      <td>0.469727</td>\n",
       "      <td>2.036935</td>\n",
       "      <td>0.338513</td>\n",
       "      <td>1.296362</td>\n",
       "      <td>2.295771</td>\n",
       "      <td>0.363421</td>\n",
       "      <td>-0.106631</td>\n",
       "      <td>1.407895</td>\n",
       "      <td>0.596148</td>\n",
       "      <td>0.358668</td>\n",
       "      <td>0.497722</td>\n",
       "      <td>1.165225</td>\n",
       "      <td>0.841043</td>\n",
       "      <td>0.203415</td>\n",
       "    </tr>\n",
       "    <tr>\n",
       "      <th>1</th>\n",
       "      <td>3.334706</td>\n",
       "      <td>1.480571</td>\n",
       "      <td>0.885413</td>\n",
       "      <td>2.340743</td>\n",
       "      <td>0.626904</td>\n",
       "      <td>2.188196</td>\n",
       "      <td>1.915579</td>\n",
       "      <td>1.242122</td>\n",
       "      <td>0.756687</td>\n",
       "      <td>1.649212</td>\n",
       "      <td>0.724354</td>\n",
       "      <td>0.210039</td>\n",
       "      <td>1.273396</td>\n",
       "      <td>1.383854</td>\n",
       "      <td>1.167070</td>\n",
       "      <td>0.010035</td>\n",
       "    </tr>\n",
       "    <tr>\n",
       "      <th>2</th>\n",
       "      <td>-0.403231</td>\n",
       "      <td>-0.448922</td>\n",
       "      <td>0.013330</td>\n",
       "      <td>0.912262</td>\n",
       "      <td>0.104885</td>\n",
       "      <td>-0.127585</td>\n",
       "      <td>-0.718686</td>\n",
       "      <td>-1.264042</td>\n",
       "      <td>0.966555</td>\n",
       "      <td>0.590284</td>\n",
       "      <td>0.471497</td>\n",
       "      <td>-0.237898</td>\n",
       "      <td>-0.028427</td>\n",
       "      <td>0.999798</td>\n",
       "      <td>-0.063783</td>\n",
       "      <td>-0.251955</td>\n",
       "    </tr>\n",
       "    <tr>\n",
       "      <th>3</th>\n",
       "      <td>2.924908</td>\n",
       "      <td>1.871368</td>\n",
       "      <td>0.717134</td>\n",
       "      <td>2.553759</td>\n",
       "      <td>0.461372</td>\n",
       "      <td>1.823811</td>\n",
       "      <td>2.409575</td>\n",
       "      <td>0.886211</td>\n",
       "      <td>0.180740</td>\n",
       "      <td>1.166210</td>\n",
       "      <td>0.622089</td>\n",
       "      <td>0.182978</td>\n",
       "      <td>0.745579</td>\n",
       "      <td>1.248753</td>\n",
       "      <td>1.089831</td>\n",
       "      <td>-0.462595</td>\n",
       "    </tr>\n",
       "    <tr>\n",
       "      <th>4</th>\n",
       "      <td>4.074106</td>\n",
       "      <td>2.434649</td>\n",
       "      <td>1.047314</td>\n",
       "      <td>2.398894</td>\n",
       "      <td>0.751044</td>\n",
       "      <td>2.761664</td>\n",
       "      <td>3.423753</td>\n",
       "      <td>1.352372</td>\n",
       "      <td>0.564267</td>\n",
       "      <td>1.572461</td>\n",
       "      <td>0.748105</td>\n",
       "      <td>0.983673</td>\n",
       "      <td>1.465964</td>\n",
       "      <td>1.430766</td>\n",
       "      <td>1.277524</td>\n",
       "      <td>0.757766</td>\n",
       "    </tr>\n",
       "  </tbody>\n",
       "</table>\n",
       "</div>"
      ],
      "text/plain": [
       "         X1        X2        X3        X4        X5        X6        X7  \\\n",
       "0  2.442848  1.687888  0.469727  2.036935  0.338513  1.296362  2.295771   \n",
       "1  3.334706  1.480571  0.885413  2.340743  0.626904  2.188196  1.915579   \n",
       "2 -0.403231 -0.448922  0.013330  0.912262  0.104885 -0.127585 -0.718686   \n",
       "3  2.924908  1.871368  0.717134  2.553759  0.461372  1.823811  2.409575   \n",
       "4  4.074106  2.434649  1.047314  2.398894  0.751044  2.761664  3.423753   \n",
       "\n",
       "         X8        X9       X10       X11       X12       X13       X14  \\\n",
       "0  0.363421 -0.106631  1.407895  0.596148  0.358668  0.497722  1.165225   \n",
       "1  1.242122  0.756687  1.649212  0.724354  0.210039  1.273396  1.383854   \n",
       "2 -1.264042  0.966555  0.590284  0.471497 -0.237898 -0.028427  0.999798   \n",
       "3  0.886211  0.180740  1.166210  0.622089  0.182978  0.745579  1.248753   \n",
       "4  1.352372  0.564267  1.572461  0.748105  0.983673  1.465964  1.430766   \n",
       "\n",
       "        X15       X16  \n",
       "0  0.841043  0.203415  \n",
       "1  1.167070  0.010035  \n",
       "2 -0.063783 -0.251955  \n",
       "3  1.089831 -0.462595  \n",
       "4  1.277524  0.757766  "
      ]
     },
     "execution_count": 8,
     "metadata": {},
     "output_type": "execute_result"
    }
   ],
   "source": [
    "df = pd.read_csv(\"data/gene_data_train.csv\")\n",
    "print(df.shape)\n",
    "df.head()"
   ]
  },
  {
   "cell_type": "code",
   "execution_count": 65,
   "id": "137c5498-4ec3-4d9d-b567-dbb9ac4da8ef",
   "metadata": {},
   "outputs": [
    {
     "name": "stdout",
     "output_type": "stream",
     "text": [
      "['X1' 'X2' 'X3' 'X4' 'X5' 'X6' 'X7' 'X8' 'X9' 'X10' 'X11' 'X12' 'X13'\n",
      " 'X14' 'X15' 'X16']\n"
     ]
    }
   ],
   "source": [
    "nodes = df.columns.values\n",
    "print(nodes)"
   ]
  },
  {
   "cell_type": "markdown",
   "id": "bf3b80d1-5ced-4aa3-a980-64e4a619fc01",
   "metadata": {},
   "source": [
    "## (2) BN structure"
   ]
  },
  {
   "cell_type": "markdown",
   "id": "4d792709-a668-4bbf-a8ee-5c34ddf3a6f0",
   "metadata": {},
   "source": [
    "- **Learn bn structure using bnlearn**"
   ]
  },
  {
   "cell_type": "code",
   "execution_count": 45,
   "id": "b2849a28-e716-49cf-a517-36dec3eb1ff9",
   "metadata": {},
   "outputs": [
    {
     "name": "stdout",
     "output_type": "stream",
     "text": [
      "Number of edges: 19\n"
     ]
    }
   ],
   "source": [
    "# Import r package\n",
    "pandas2ri.activate()\n",
    "bnlearn = importr(\"bnlearn\")\n",
    "\n",
    "# Hill climbing algorithm\n",
    "bn_r = bnlearn.hc(df)  # optional arguments: restart , perturb \n",
    "\n",
    "# Convert R object to Python dictionary\n",
    "bn_pd = ro.conversion.rpy2py(bn_r)\n",
    "bn = dict(zip(bn_pd.names, map(list,list(bn_pd))))\n",
    "\n",
    "# Extract edges\n",
    "edges = bn['arcs']\n",
    "edges = (np.asmatrix(edges).reshape(2,-1)).T.tolist()\n",
    "print(f\"Number of edges: {len(edges)}\")   "
   ]
  },
  {
   "cell_type": "markdown",
   "id": "3ff92608-63b5-4d2c-b419-cb34ce8d8856",
   "metadata": {},
   "source": [
    "- **Create DiGraph objects**"
   ]
  },
  {
   "cell_type": "code",
   "execution_count": 46,
   "id": "01e1423e-4290-434f-a508-54c0a0de14da",
   "metadata": {},
   "outputs": [],
   "source": [
    "# Learned structure (the structure learned from data)\n",
    "learn_g = nx.DiGraph()\n",
    "learn_g.add_nodes_from(nodes)\n",
    "learn_g.add_edges_from(edges)\n",
    "\n",
    "# True structure (the structure used to generate data)\n",
    "true_network_edges = pd.read_csv(\"data/gene_edges.csv\")\n",
    "ture_g = nx.DiGraph()\n",
    "ture_g.add_nodes_from(nodes)\n",
    "ture_g.add_edges_from(np.array(true_network_edges))"
   ]
  },
  {
   "cell_type": "markdown",
   "id": "c13a2c55-7114-4d36-97ee-f825c63ceaa8",
   "metadata": {},
   "source": [
    "- **Compare learned strucutre with true structure**"
   ]
  },
  {
   "cell_type": "code",
   "execution_count": 47,
   "id": "4cca7d91-3c64-42f6-83d3-90c6058269fa",
   "metadata": {},
   "outputs": [
    {
     "data": {
      "image/png": "[encoded data removed]",
      "text/plain": [
       "<Figure size 1200x300 with 2 Axes>"
      ]
     },
     "metadata": {},
     "output_type": "display_data"
    }
   ],
   "source": [
    "custom_pos ={'X1':[0.5, 0.8],'X2':[0.35, 0.45],'X3':[0.45, 0.35],'X4':[0.55, 0.45],'X5':[0.65, 0.5],'X6':[0.75, 0.6],'X7':[0.8, 0.75],'X8':[0.4, 0.95],\n",
    "        'X9':[0.6, 0.95],'X10':[0.15, 0.8],'X11':[0.25, 0.65],'X12':[0.3, 0.2],'X13':[0.4, 0.15],'X14':[0.5, 0.15],'X15':[0.6, 0.2],'X16':[0.2, 0.3]}\n",
    "\n",
    "fig, ax = plt.subplots(1, 2, figsize = (12, 3))\n",
    "nx.draw(learn_g, custom_pos, with_labels = True, node_color='lightblue', node_size = 400, ax = ax[0])\n",
    "nx.draw(ture_g, custom_pos, with_labels = True, node_color='lightblue', node_size = 400, ax = ax[1])\n",
    "\n",
    "ax[0].set_title(\"Learned structure\")\n",
    "ax[1].set_title(\"True structure\");"
   ]
  },
  {
   "cell_type": "markdown",
   "id": "145a198e-f666-40ba-b576-db9ce1111043",
   "metadata": {},
   "source": [
    "## (3) Likelihood "
   ]
  },
  {
   "cell_type": "code",
   "execution_count": 96,
   "id": "4695c6be-6a17-41ec-9067-a78d3d0e2c3a",
   "metadata": {},
   "outputs": [],
   "source": [
    "from sklearn import linear_model\n",
    "import math"
   ]
  },
  {
   "cell_type": "code",
   "execution_count": 62,
   "id": "b353ec81-4020-449a-b964-7b6e7e404871",
   "metadata": {},
   "outputs": [],
   "source": [
    "def lik_score(data, target_name, parents_name):\n",
    "    n = len(data)\n",
    "    target = data[target_name]\n",
    "    \n",
    "    if len(parents_name)==0:\n",
    "        resid = target\n",
    "    else:\n",
    "        parents = data[parents_name]     \n",
    "        lm = linear_model.LinearRegression()\n",
    "        lm.fit(parents,target)\n",
    "        pred = lm.predict(parents)\n",
    "        resid = target-pred\n",
    "            \n",
    "    resid_m = np.mean(resid)\n",
    "    resid_s = np.var(resid)\n",
    "    \n",
    "    ln_lik = -(n/2)*np.log(2*math.pi) - (n/2)*np.log(resid_s) - (1/(2*resid_s))*(sum((resid-resid_m)**2))\n",
    "    \n",
    "    return ln_lik\n",
    "    "
   ]
  },
  {
   "cell_type": "markdown",
   "id": "4db547ee-59e0-4fd8-9d31-3d131bf2fc72",
   "metadata": {},
   "source": [
    "- **Local likelihood**"
   ]
  },
  {
   "cell_type": "code",
   "execution_count": 71,
   "id": "430cb803-5830-4a96-b5de-e8186d863afd",
   "metadata": {},
   "outputs": [
    {
     "name": "stdout",
     "output_type": "stream",
     "text": [
      "Number of parents of X9: 0\n",
      "Local likelihood of X9: -1417.73\n"
     ]
    }
   ],
   "source": [
    "# Root node \n",
    "parents_name = [pa for pa in ture_g.predecessors(\"X9\")]\n",
    "print(f\"Number of parents of X9: {len(parents_name)}\")\n",
    "local_lik = lik_score(data = df, target_name = \"X9\", parents_name = parents_name)\n",
    "print(f\"Local likelihood of X9: {local_lik:.2f}\")"
   ]
  },
  {
   "cell_type": "code",
   "execution_count": 72,
   "id": "e1b0bac3-a1ae-4fc9-99ca-569bfdf3c92e",
   "metadata": {},
   "outputs": [
    {
     "name": "stdout",
     "output_type": "stream",
     "text": [
      "Number of parents of X1: 2\n",
      "Local likelihood of X1: -666.89\n"
     ]
    }
   ],
   "source": [
    "# Non-root node\n",
    "parents_name = [pa for pa in ture_g.predecessors(\"X1\")]\n",
    "print(f\"Number of parents of X1: {len(parents_name)}\")\n",
    "local_lik = lik_score(data = df, target_name = \"X1\", parents_name = parents_name)\n",
    "print(f\"Local likelihood of X1: {local_lik:.2f}\")"
   ]
  },
  {
   "cell_type": "markdown",
   "id": "47c31dba-4c18-457d-94f6-997e74b6f169",
   "metadata": {},
   "source": [
    "- **Global likelihood**"
   ]
  },
  {
   "cell_type": "code",
   "execution_count": 73,
   "id": "6bc1c890-0970-4560-be4a-7b0b1c792e82",
   "metadata": {},
   "outputs": [
    {
     "name": "stdout",
     "output_type": "stream",
     "text": [
      "Global likelihood: 1724.82\n"
     ]
    }
   ],
   "source": [
    "gb_lik = 0\n",
    "for node in nodes:\n",
    "    parents_name = [pa for pa in ture_g.predecessors(node)]\n",
    "    local_lik = lik_score(data = df, target_name = node, parents_name = parents_name)\n",
    "    gb_lik += local_lik\n",
    "\n",
    "print(f\"Global likelihood: {gb_lik:.2f}\")"
   ]
  }
 ],
 "metadata": {
  "kernelspec": {
   "display_name": "Python 3 (ipykernel)",
   "language": "python",
   "name": "python3"
  },
  "language_info": {
   "codemirror_mode": {
    "name": "ipython",
    "version": 3
   },
   "file_extension": ".py",
   "mimetype": "text/x-python",
   "name": "python",
   "nbconvert_exporter": "python",
   "pygments_lexer": "ipython3",
   "version": "3.11.5"
  }
 },
 "nbformat": 4,
 "nbformat_minor": 5
}
