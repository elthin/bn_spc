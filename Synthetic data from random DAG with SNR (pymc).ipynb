{
 "cells": [
  {
   "cell_type": "code",
   "execution_count": 1,
   "id": "528f0c9f-b5f7-4c83-9b97-4e4bce036e88",
   "metadata": {},
   "outputs": [
    {
     "name": "stderr",
     "output_type": "stream",
     "text": [
      "During startup - Warning messages:\n",
      "1: Setting LC_COLLATE failed, using \"C\" \n",
      "2: Setting LC_TIME failed, using \"C\" \n",
      "3: Setting LC_MESSAGES failed, using \"C\" \n",
      "4: Setting LC_MONETARY failed, using \"C\" \n"
     ]
    }
   ],
   "source": [
    "import numpy as np\n",
    "import pandas as pd\n",
    "import matplotlib.pyplot as plt\n",
    "import seaborn as sns\n",
    "\n",
    "import random\n",
    "import networkx as nx\n",
    "import pymc as pm\n",
    "\n",
    "from rpy2.robjects.packages import importr\n",
    "from rpy2.robjects import pandas2ri\n",
    "import rpy2.robjects as ro\n",
    "import networkx as nx\n",
    "import matplotlib.pyplot as plt"
   ]
  },
  {
   "cell_type": "markdown",
   "id": "54de7a24-4678-4b61-8eef-fbea9620b7b6",
   "metadata": {},
   "source": [
    "## Generate random DAG"
   ]
  },
  {
   "cell_type": "code",
   "execution_count": 2,
   "id": "57540ee7-c8a2-4fa9-8dad-8641f4f42dd4",
   "metadata": {},
   "outputs": [
    {
     "data": {
      "image/png": "[encoded data removed]",
      "text/plain": [
       "<Figure size 500x300 with 1 Axes>"
      ]
     },
     "metadata": {},
     "output_type": "display_data"
    }
   ],
   "source": [
    "nodes = [f\"X{i+1}\" for i in range (5)]\n",
    "p = len(nodes)\n",
    "\n",
    "plt.figure(figsize = (5, 3))\n",
    "g_rd = nx.gn_graph(p, seed = 1)\n",
    "g = nx.DiGraph()\n",
    "g.add_nodes_from(nodes)\n",
    "\n",
    "for node_from, node_to in g_rd.edges():\n",
    "    g.add_edge(nodes[node_from], nodes[node_to])\n",
    "\n",
    "pos = nx.kamada_kawai_layout(g)\n",
    "nx.draw(g, pos = pos, with_labels = True, node_color='lightblue')\n"
   ]
  },
  {
   "cell_type": "code",
   "execution_count": 3,
   "id": "4d1b5622-7291-45b6-9a0a-b2d89b9fd650",
   "metadata": {},
   "outputs": [
    {
     "name": "stdout",
     "output_type": "stream",
     "text": [
      "['X2', 'X4', 'X5', 'X3', 'X1']\n"
     ]
    }
   ],
   "source": [
    "tpsort = list(nx.topological_sort(g))\n",
    "print(tpsort)"
   ]
  },
  {
   "cell_type": "markdown",
   "id": "317953d1-ea1c-48d8-94fb-d44e12f5a23d",
   "metadata": {},
   "source": [
    "## Set parameters and dependencies"
   ]
  },
  {
   "cell_type": "code",
   "execution_count": 4,
   "id": "8462b24f-0088-448f-b394-59e923f6cf0c",
   "metadata": {},
   "outputs": [
    {
     "name": "stdout",
     "output_type": "stream",
     "text": [
      "X1 = 1+(-2)*X2 + (-2)*X3\n",
      "X2: (mean, var) = (2.48, 1.49)\n",
      "X3 = 0+(-1)*X4 + (-2)*X5\n",
      "X4: (mean, var) = (2.35, 2.78)\n",
      "X5: (mean, var) = (1.17, 1.84)\n"
     ]
    }
   ],
   "source": [
    "# parameters (mean, var)\n",
    "random.seed(42)\n",
    "params = {}\n",
    "nonroot_coefs = {}\n",
    "\n",
    "for node in nodes:\n",
    "    parents = [parent for parent in g.predecessors(node)]\n",
    "    if len(parents) == 0:\n",
    "        mu = random.uniform(1, 3)\n",
    "        var = random.uniform(1, 3)\n",
    "        params[node] = (mu, var)\n",
    "        \n",
    "        print(f\"{node}: (mean, var) = ({mu:.2f}, {var:.2f})\")\n",
    "    else:\n",
    "        intercept = np.random.choice([0,1]) # intercept 0 or 1\n",
    "        coefs = [random.randint(-2, 2) for _ in range(len(parents))] \n",
    "        nonroot_coefs[node] = [intercept] + coefs\n",
    "        \n",
    "        expression = \" + \".join([f\"({c})*{pa}\" for c, pa in zip(coefs, parents)])\n",
    "        print(f\"{node} = {intercept}+{expression}\")"
   ]
  },
  {
   "cell_type": "markdown",
   "id": "8f0fb990-2bbb-477c-82fa-c95bc7b07a39",
   "metadata": {},
   "source": [
    "## Functions define\n",
    "- **bn_model_SNR**: pymc model\n",
    "- **draw_sample**: Generate data based on a given pymc model"
   ]
  },
  {
   "cell_type": "code",
   "execution_count": 5,
   "id": "3a41eec8-1aa7-432b-ac81-0cb88b124fb1",
   "metadata": {},
   "outputs": [],
   "source": [
    "def bn_model_SNR(g, node_params, node_coefs, SNR_dB=10):\n",
    "    \"\"\"\n",
    "    Define a Bayesian network model with specified signal-to-noise ratio (SNR) constraints.\n",
    "\n",
    "    Parameters:\n",
    "    - g: A directed acyclic graph (DAG) representing the Bayesian network structure, where nodes represent variables.\n",
    "    - node_params: A dictionary mapping nodes to their parameters (mean and variance) for Gaussian distributions.\n",
    "    - node_coefs: A dictionary mapping nodes to their coefficients, indicating linear dependencies on their parents.\n",
    "    - SNR_dB: Desired signal-to-noise ratio in decibels for the noise added to each non-root node.\n",
    "\n",
    "    Returns:\n",
    "    - model: A PyMC model instance representing the Bayesian network.\n",
    "    - node_params: Updated node_params with calculated means and variances including noise contributions.\n",
    "    \"\"\"\n",
    "    # Obtain a topological sort of the graph to ensure parent nodes are processed before their children.\n",
    "    tpsort = list(nx.topological_sort(g))\n",
    "    \n",
    "    # Initialize a PyMC model context.\n",
    "    with pm.Model() as model:\n",
    "        # Dictionary to store PyMC variables for each node.\n",
    "        particles = {}\n",
    "\n",
    "        # Iterate over the nodes in topologically sorted order.\n",
    "        for node in tpsort:\n",
    "            # Identify the parents of the current node.\n",
    "            parents = [parent for parent in g.predecessors(node)]\n",
    "            \n",
    "            if len(parents) == 0:\n",
    "                # Handle root nodes: nodes without parents.\n",
    "                mu, var = node_params[node]\n",
    "                particles[node] = pm.Normal(node, mu=mu, sigma=np.sqrt(var))\n",
    "            else:\n",
    "                # Handle non-root nodes: nodes with one or more parents.\n",
    "                # Extract and process coefficients for linear dependency on parents.\n",
    "                coefs = node_coefs[node].copy()\n",
    "                intercept = coefs.pop(0)\n",
    "                \n",
    "                # Initialize variables for linear combination of parent contributions.\n",
    "                pred = intercept     # Prediction before adding noise\n",
    "                node_mu = intercept  # Mean of the current node's distribution\n",
    "                power_signal = 0     # Power of the signal contributed by parent nodes\n",
    "                \n",
    "                # Accumulate contributions from parent nodes.\n",
    "                for i, pa in enumerate(parents):\n",
    "                    parent_mu, parent_var = node_params[pa]\n",
    "                    pred += coefs[i] * particles[pa]\n",
    "                    node_mu += coefs[i] * parent_mu\n",
    "                    power_signal += (coefs[i] ** 2) * parent_var\n",
    "                \n",
    "                # Calculate noise power based on desired SNR.\n",
    "                power_noise = power_signal / (10 ** (SNR_dB / 10))\n",
    "                \n",
    "                # Define noise as a PyMC Normal variable and add it to the prediction.\n",
    "                noise = pm.Normal(f'{node}_noise', mu=0, sigma=np.sqrt(power_noise))\n",
    "                particles[node] = pm.Deterministic(node, pred + noise)\n",
    "                \n",
    "                # Update the mean and variance parameters for the current node.\n",
    "                node_var = power_signal + power_noise\n",
    "                node_params[node] = (node_mu, node_var)\n",
    "    \n",
    "    return model, node_params"
   ]
  },
  {
   "cell_type": "code",
   "execution_count": 6,
   "id": "164c2376-95b7-46e6-9193-3e88c2681d28",
   "metadata": {},
   "outputs": [],
   "source": [
    "def draw_sample(bn_model, num_samples = 1000):\n",
    "    with bn_model:\n",
    "        trace = pm.sample(num_samples, tune=500, progressbar=False,  random_seed = 42)  \n",
    "    samples = {}\n",
    "    for node in nodes:\n",
    "        samples[node] = trace.posterior[node][0]\n",
    "    df = pd.DataFrame(samples, columns = nodes)\n",
    "    \n",
    "    return df"
   ]
  },
  {
   "cell_type": "markdown",
   "id": "f6fecf5e-d638-4aae-9add-b45c1135975d",
   "metadata": {},
   "source": [
    "## Generate BN data"
   ]
  },
  {
   "cell_type": "markdown",
   "id": "5f14fd6a-4f4e-4e9a-b9be-1b64c87e184b",
   "metadata": {},
   "source": [
    "- **Step1**: Define pymc model"
   ]
  },
  {
   "cell_type": "code",
   "execution_count": 7,
   "id": "c05c750c-b314-4163-bd2f-4849d0588cc6",
   "metadata": {},
   "outputs": [],
   "source": [
    "model_SNR, node_params_SNR = bn_model_SNR(g = g, \n",
    "                                          node_params = params.copy(),\n",
    "                                          node_coefs = nonroot_coefs, \n",
    "                                          SNR_dB = 10)"
   ]
  },
  {
   "cell_type": "markdown",
   "id": "145dd1f1-7575-439c-9afd-35da9587a50e",
   "metadata": {},
   "source": [
    "- **Step2**: Draw sameple from the model"
   ]
  },
  {
   "cell_type": "code",
   "execution_count": 8,
   "id": "f1c2a9fb-8a89-4f37-892e-993fa7a6ec60",
   "metadata": {},
   "outputs": [
    {
     "name": "stderr",
     "output_type": "stream",
     "text": [
      "Auto-assigning NUTS sampler...\n",
      "Initializing NUTS using jitter+adapt_diag...\n",
      "Multiprocess sampling (4 chains in 4 jobs)\n",
      "NUTS: [X2, X4, X5, X3_noise, X1_noise]\n",
      "Sampling 4 chains for 500 tune and 1_000 draw iterations (2_000 + 4_000 draws total) took 1 seconds.\n"
     ]
    },
    {
     "data": {
      "text/html": [
       "<div>\n",
       "<style scoped>\n",
       "    .dataframe tbody tr th:only-of-type {\n",
       "        vertical-align: middle;\n",
       "    }\n",
       "\n",
       "    .dataframe tbody tr th {\n",
       "        vertical-align: top;\n",
       "    }\n",
       "\n",
       "    .dataframe thead th {\n",
       "        text-align: right;\n",
       "    }\n",
       "</style>\n",
       "<table border=\"1\" class=\"dataframe\">\n",
       "  <thead>\n",
       "    <tr style=\"text-align: right;\">\n",
       "      <th></th>\n",
       "      <th>X1</th>\n",
       "      <th>X2</th>\n",
       "      <th>X3</th>\n",
       "      <th>X4</th>\n",
       "      <th>X5</th>\n",
       "    </tr>\n",
       "  </thead>\n",
       "  <tbody>\n",
       "    <tr>\n",
       "      <th>0</th>\n",
       "      <td>5.200489</td>\n",
       "      <td>1.698422</td>\n",
       "      <td>-1.788503</td>\n",
       "      <td>2.232679</td>\n",
       "      <td>0.030589</td>\n",
       "    </tr>\n",
       "    <tr>\n",
       "      <th>1</th>\n",
       "      <td>6.767775</td>\n",
       "      <td>3.251933</td>\n",
       "      <td>-7.144619</td>\n",
       "      <td>2.310618</td>\n",
       "      <td>2.346381</td>\n",
       "    </tr>\n",
       "    <tr>\n",
       "      <th>2</th>\n",
       "      <td>3.736442</td>\n",
       "      <td>1.917607</td>\n",
       "      <td>-2.428572</td>\n",
       "      <td>2.409173</td>\n",
       "      <td>0.142150</td>\n",
       "    </tr>\n",
       "  </tbody>\n",
       "</table>\n",
       "</div>"
      ],
      "text/plain": [
       "         X1        X2        X3        X4        X5\n",
       "0  5.200489  1.698422 -1.788503  2.232679  0.030589\n",
       "1  6.767775  3.251933 -7.144619  2.310618  2.346381\n",
       "2  3.736442  1.917607 -2.428572  2.409173  0.142150"
      ]
     },
     "execution_count": 8,
     "metadata": {},
     "output_type": "execute_result"
    }
   ],
   "source": [
    "df = draw_sample(bn_model = model_SNR)\n",
    "df.head(3)"
   ]
  },
  {
   "cell_type": "markdown",
   "id": "6389a913-5c84-4cee-b529-5352c08ea6e1",
   "metadata": {},
   "source": [
    "- **Step3**: Check whether the sample mean and variation in the synthetic data are close to the model settings."
   ]
  },
  {
   "cell_type": "code",
   "execution_count": 9,
   "id": "dc74d7f8-59f9-4dd9-b4a6-435765c3d3e2",
   "metadata": {},
   "outputs": [
    {
     "data": {
      "text/html": [
       "<div>\n",
       "<style scoped>\n",
       "    .dataframe tbody tr th:only-of-type {\n",
       "        vertical-align: middle;\n",
       "    }\n",
       "\n",
       "    .dataframe tbody tr th {\n",
       "        vertical-align: top;\n",
       "    }\n",
       "\n",
       "    .dataframe thead th {\n",
       "        text-align: right;\n",
       "    }\n",
       "</style>\n",
       "<table border=\"1\" class=\"dataframe\">\n",
       "  <thead>\n",
       "    <tr style=\"text-align: right;\">\n",
       "      <th></th>\n",
       "      <th>sample_mean</th>\n",
       "      <th>sample_var</th>\n",
       "      <th>model_mean</th>\n",
       "      <th>model_var</th>\n",
       "    </tr>\n",
       "  </thead>\n",
       "  <tbody>\n",
       "    <tr>\n",
       "      <th>X1</th>\n",
       "      <td>5.38</td>\n",
       "      <td>53.67</td>\n",
       "      <td>5.44</td>\n",
       "      <td>55.73</td>\n",
       "    </tr>\n",
       "    <tr>\n",
       "      <th>X2</th>\n",
       "      <td>2.54</td>\n",
       "      <td>1.54</td>\n",
       "      <td>2.48</td>\n",
       "      <td>1.49</td>\n",
       "    </tr>\n",
       "    <tr>\n",
       "      <th>X3</th>\n",
       "      <td>-4.76</td>\n",
       "      <td>10.89</td>\n",
       "      <td>-4.70</td>\n",
       "      <td>11.18</td>\n",
       "    </tr>\n",
       "    <tr>\n",
       "      <th>X4</th>\n",
       "      <td>2.38</td>\n",
       "      <td>2.69</td>\n",
       "      <td>2.35</td>\n",
       "      <td>2.78</td>\n",
       "    </tr>\n",
       "    <tr>\n",
       "      <th>X5</th>\n",
       "      <td>1.21</td>\n",
       "      <td>1.64</td>\n",
       "      <td>1.17</td>\n",
       "      <td>1.84</td>\n",
       "    </tr>\n",
       "  </tbody>\n",
       "</table>\n",
       "</div>"
      ],
      "text/plain": [
       "    sample_mean  sample_var  model_mean  model_var\n",
       "X1         5.38       53.67        5.44      55.73\n",
       "X2         2.54        1.54        2.48       1.49\n",
       "X3        -4.76       10.89       -4.70      11.18\n",
       "X4         2.38        2.69        2.35       2.78\n",
       "X5         1.21        1.64        1.17       1.84"
      ]
     },
     "execution_count": 9,
     "metadata": {},
     "output_type": "execute_result"
    }
   ],
   "source": [
    "# Compare (sample mean, sample var) with (model_mean, model_var)\n",
    "param_summary = pd.DataFrame({\n",
    "    \"sample_mean\": df.mean(),\n",
    "    \"sample_var\": df.var()\n",
    "})\n",
    "model_means_vars = pd.DataFrame([node_params_SNR[node] for node in nodes], index=nodes, columns=[\"model_mean\", \"model_var\"])\n",
    "param_summary = param_summary.join(model_means_vars)\n",
    "param_summary.round(2)"
   ]
  },
  {
   "cell_type": "markdown",
   "id": "bd8e079e-de5c-4bf6-922f-8256f2dded6c",
   "metadata": {},
   "source": [
    "## Learn BN from sample data"
   ]
  },
  {
   "cell_type": "code",
   "execution_count": 10,
   "id": "6f370130-871f-4a10-a7e8-569560f7f7ac",
   "metadata": {},
   "outputs": [],
   "source": [
    "# Import r package\n",
    "pandas2ri.activate()\n",
    "bnlearn = importr(\"bnlearn\")"
   ]
  },
  {
   "cell_type": "code",
   "execution_count": 11,
   "id": "386616a5-d4ac-4806-8cca-0f2ac9f15e49",
   "metadata": {},
   "outputs": [
    {
     "name": "stdout",
     "output_type": "stream",
     "text": [
      "Number of edges: 4\n"
     ]
    }
   ],
   "source": [
    "# Hill climbing algorithm\n",
    "bn_r = bnlearn.hc(df, restart = 30, perturb = 3)\n",
    "bn_pd = ro.conversion.rpy2py(bn_r)\n",
    "bn = dict(zip(bn_pd.names, map(list,list(bn_pd))))\n",
    "edges = bn['arcs']\n",
    "edges = (np.asmatrix(edges).reshape(2,-1)).T.tolist()\n",
    "print(f\"Number of edges: {len(edges)}\")   "
   ]
  },
  {
   "cell_type": "markdown",
   "id": "7d75eb22-7a67-45de-b736-fb59f91f8bdf",
   "metadata": {},
   "source": [
    "## Compare true network and learned network"
   ]
  },
  {
   "cell_type": "code",
   "execution_count": 12,
   "id": "154907c9-9a45-4c6b-90eb-b40fe6f2e8cc",
   "metadata": {},
   "outputs": [
    {
     "data": {
      "image/png": "[encoded data removed]",
      "text/plain": [
       "<Figure size 1200x500 with 2 Axes>"
      ]
     },
     "metadata": {},
     "output_type": "display_data"
    }
   ],
   "source": [
    "fig, ax = plt.subplots(1, 2, figsize = (12, 5))\n",
    "\n",
    "# true network\n",
    "nx.draw(g, pos, with_labels = True, node_color='lightblue',node_size = 600, ax = ax[0])\n",
    "\n",
    "# learned network\n",
    "g_learned = nx.DiGraph()\n",
    "g_learned.add_nodes_from(df.columns.values)\n",
    "g_learned.add_edges_from(edges)\n",
    "\n",
    "nx.draw(g_learned, pos, with_labels = True, node_color='lightgreen', node_size = 600, ax = ax[1])\n",
    "\n",
    "ax[0].set_title(\"True network\")\n",
    "ax[1].set_title(\"Learned network\");"
   ]
  }
 ],
 "metadata": {
  "kernelspec": {
   "display_name": "Python 3 (ipykernel)",
   "language": "python",
   "name": "python3"
  },
  "language_info": {
   "codemirror_mode": {
    "name": "ipython",
    "version": 3
   },
   "file_extension": ".py",
   "mimetype": "text/x-python",
   "name": "python",
   "nbconvert_exporter": "python",
   "pygments_lexer": "ipython3",
   "version": "3.11.5"
  }
 },
 "nbformat": 4,
 "nbformat_minor": 5
}
